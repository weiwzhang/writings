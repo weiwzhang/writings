{
 "cells": [
  {
   "cell_type": "markdown",
   "metadata": {},
   "source": [
    "<h1>Table of Contents<span class=\"tocSkip\"></span></h1>\n",
    "<div class=\"toc\"><ul class=\"toc-item\"><li><span><a href=\"#Relational-Database-and-SQL\" data-toc-modified-id=\"Relational-Database-and-SQL-1\">Relational Database and SQL</a></span><ul class=\"toc-item\"><li><span><a href=\"#Relational-Model\" data-toc-modified-id=\"Relational-Model-1.1\">Relational Model</a></span></li><li><span><a href=\"#Structured-Query-Language-(SQL)\" data-toc-modified-id=\"Structured-Query-Language-(SQL)-1.2\">Structured Query Language (SQL)</a></span></li></ul></li></ul></div>"
   ]
  },
  {
   "cell_type": "code",
   "execution_count": 1,
   "metadata": {},
   "outputs": [],
   "source": [
    "# install packages\n",
    "# !pip install nbinteract"
   ]
  },
  {
   "cell_type": "code",
   "execution_count": 2,
   "metadata": {},
   "outputs": [],
   "source": [
    "# HIDDEN\n",
    "\n",
    "import numpy as np\n",
    "import matplotlib.pyplot as plt\n",
    "import pandas as pd\n",
    "import seaborn as sns\n",
    "%matplotlib inline\n",
    "import ipywidgets as widgets\n",
    "from ipywidgets import interact, interactive, fixed, interact_manual\n",
    "import nbinteract as nbi\n",
    "import sqlalchemy\n",
    "\n",
    "\n",
    "sns.set()\n",
    "sns.set_context('talk')\n",
    "pd.options.display.max_rows = 7\n",
    "pd.options.display.max_columns = 8"
   ]
  },
  {
   "cell_type": "markdown",
   "metadata": {},
   "source": [
    "# Relational Database and SQL"
   ]
  },
  {
   "cell_type": "markdown",
   "metadata": {},
   "source": [
    "**Database** is an organized collection of data; **Database Management System (DBMS)** is a software\n",
    "system that stores, manages, and facilitates access to one or more databases. While they are two different things, the term \"database\" is sometimes loosely used to refer to DBMS. \n",
    "\n",
    "DBMS is useful for many reasons. It provides reliable storage to survive system crashes and disk failures. It organizes data and enforces consistent properties (e.g. some values can't be negative). It also protects data by controlling data access, and provides efficient access with optimized data structures and optimized computation for user queries."
   ]
  },
  {
   "cell_type": "markdown",
   "metadata": {},
   "source": [
    "There are a variety of different DBMSs, but the most common one is **relational database management system(RDBMS)**, which organizes data by relational models.  "
   ]
  },
  {
   "cell_type": "markdown",
   "metadata": {},
   "source": [
    "## Relational Model\n",
    "\n",
    "**Relation** means table, which describes some relationships between data. In the **relational model** paradigm, DBMSs logically organize data into relations. Each relation is strictly organized by a **schema**, which defines data types, constraints, and table columns. The specific data records in a table are called **instances**, and they must satisfy the corresponding schema. \n",
    "\n",
    "In a table, these terms are synonyms: **tuple** = **record** = **row**; **attribute** = **column**. From the graph we can see that a row refers to a data instance, and a column refers to part of an instance."
   ]
  },
  {
   "cell_type": "markdown",
   "metadata": {},
   "source": [
    "![relation](https://github.com/weiwzhang/writings/blob/master/simplistic_SQL_tutorial_ds100/relation.png)"
   ]
  },
  {
   "cell_type": "markdown",
   "metadata": {},
   "source": [
    "**Structured Query Language (SQL)** is used to define, manipulat and compute on data in a RDBMS. "
   ]
  },
  {
   "cell_type": "markdown",
   "metadata": {},
   "source": [
    "Relational model is widely used in the data world for its many benefits. For example, tabular format is easy to perform computations on and also shows relationships between data. schemas can enforce data constraints. SQL allows you to write simple and powerful data queries and computations (see following section).\n"
   ]
  },
  {
   "cell_type": "markdown",
   "metadata": {},
   "source": [
    "## Structured Query Language (SQL)\n",
    "\n",
    "\n",
    "SQL is one of the most common languages used in data systems. It's a **declarative language**, which means you define the output you want to get in your **query**, and let the DBMS figure out how to best execute your request. More specifically, the query optimizer in DBMS generates many possible plans and choose the most efficient to execute the query. "
   ]
  },
  {
   "cell_type": "markdown",
   "metadata": {},
   "source": [
    "SQL is useful because it's more intuitive to understand for non-programmers. You don't need to know how to best execute your query; you just need to know what output you want. It can also be more efficient because DBMS optimizes query executions. However, the system performance might heavily depend on the how well the DBMS can optimize queries. "
   ]
  },
  {
   "cell_type": "markdown",
   "metadata": {},
   "source": [
    "SQL has two sublanguages: **Data Definition Language** (DDL) which modifies schema, and **Data Manipulation Language **(DML) is what we commonly use to write queries. So the following SQL code are all DML. "
   ]
  },
  {
   "cell_type": "markdown",
   "metadata": {},
   "source": [
    "So, how do we use SQL? We'll introduce some most basic SQL query keywords through an example. For an overview here are the words we'll cover:\n",
    "- SELECT\n",
    "- FROM\n",
    "- WHERE\n",
    "- LIMIT\n",
    "- GROUP BY and Aggregations\n",
    "- other useful keywords: HAVING, ORDER BY, LIMIT\n",
    "\n",
    "(Note: we will use SQLite, which is a simple relational DBMS contained in a C programming library. Here we launch a SQLite database stored in the data100.db file in the local folder.)"
   ]
  },
  {
   "cell_type": "code",
   "execution_count": 3,
   "metadata": {},
   "outputs": [],
   "source": [
    "# Delete the database if it already exists.\n",
    "from pathlib import Path\n",
    "dbfile = Path(\"data100.db\")\n",
    "if dbfile.exists():\n",
    "    dbfile.unlink()\n",
    "\n",
    "sqlite_uri = \"sqlite:///data100.db\"\n",
    "sqlite_engine = sqlalchemy.create_engine(sqlite_uri)"
   ]
  },
  {
   "cell_type": "markdown",
   "metadata": {},
   "source": [
    "#### A Data Science Carnival"
   ]
  },
  {
   "cell_type": "markdown",
   "metadata": {},
   "source": [
    "Berkeley is hosting the first ever Data Science Carnival, and you are taking your little sister to go and explore the magnificent fun of data science. Your sister wants to get a colorful balloon. To help your sister out, you want to find the dataset for all balloons, and then choose the ones your sister wants. Here suppose that each balloon type is uniquely identified by an id and has the following information: a shape, a color, the clown who sells it, and the cost of this particular balloon type."
   ]
  },
  {
   "cell_type": "markdown",
   "metadata": {},
   "source": [
    "To create a dataset, first let's introduce the **`CREATE TABLE`** clause for creating schemas:"
   ]
  },
  {
   "cell_type": "markdown",
   "metadata": {},
   "source": [
    "```sql\n",
    "CREATE TABLE tablename (\n",
    "    col1_name data_type1, \n",
    "    col2_name data_type2, \n",
    "    ...\n",
    ");\n",
    "```"
   ]
  },
  {
   "cell_type": "code",
   "execution_count": 4,
   "metadata": {},
   "outputs": [],
   "source": [
    "# create tables in Pandas\n",
    "sql_expr = \"\"\"\n",
    "CREATE TABLE Balloons (\n",
    "    bid INT,\n",
    "    bshape text,\n",
    "    bcolor text,\n",
    "    clown text,\n",
    "    cost float,\n",
    "    PRIMARY KEY (bid)\n",
    ");\n",
    "\"\"\"\n",
    "\n",
    "result = sqlite_engine.execute(sql_expr)"
   ]
  },
  {
   "cell_type": "markdown",
   "metadata": {},
   "source": [
    "Here we introduce the idea of **primary key**, which is an attribute that uniquely identifies a row in a table. It's useful because it enforces unique records in a table. In some more complicated tables, we might have one or more columns referring to primary key columns in other tables. In this case, these columns are called foreign keys. A **foreign key** is one or more columns that uniquely identifies a row of another table or the same table. When we introduce `JOIN` in next section, we might see more cases of foreign keys. "
   ]
  },
  {
   "cell_type": "markdown",
   "metadata": {},
   "source": [
    "Now we can add data data records into these tables using **`INSERT VALUE`** clause: "
   ]
  },
  {
   "cell_type": "markdown",
   "metadata": {},
   "source": [
    "```sql\n",
    "INSERT INTO tablename \n",
    "    (col1, col2, ...) \n",
    "VALUES \n",
    "    (v11, v12, ...), \n",
    "    (v21, v22, ...), \n",
    "    ...\n",
    ";\n",
    "```"
   ]
  },
  {
   "cell_type": "code",
   "execution_count": 5,
   "metadata": {},
   "outputs": [],
   "source": [
    "sql_expr = \"\"\"\n",
    "INSERT INTO Balloons\n",
    "    (bid, bshape, bcolor, clown, cost)\n",
    "VALUES\n",
    "    (1, 'rectangular prism', 'red', 'Whompers LeFou', 1.5),\n",
    "    (2, 'ellipsoid', 'red', 'Cayenne East', 2.0),\n",
    "    (3, 'hyperboloid', 'red', 'Swan Ronson', 8.9),\n",
    "    (4, 'rectangular prism', 'green', 'Whompers LeFou', 1.5),\n",
    "    (5, 'ellipsoid', 'red', 'Cayenne East', 1.5),\n",
    "    (6, 'octahedral prism', 'white', 'Swan Ronson', 2.0),\n",
    "    (7, 'octahedral prism', 'green', 'Swan Ronson', 3.0),\n",
    "    (8, 'extremely rare shape', 'extremely rare color', 'Reese Withoutaspoon', 3.5)\n",
    ";\n",
    "\"\"\"\n",
    "\n",
    "result = sqlite_engine.execute(sql_expr)"
   ]
  },
  {
   "cell_type": "markdown",
   "metadata": {},
   "source": [
    "Ok, now that we have the dataset, let's inspect the data and query for what we need!"
   ]
  },
  {
   "cell_type": "markdown",
   "metadata": {},
   "source": [
    "### SELECT... FROM\n",
    "\n",
    "Your sister wants to know what colors are available for the balloons. How do we get that? We notice that all the colors are listed in the `Balloons` table, so we will **`SELECT`** the colors **`FROM`** `Balloons`. `SELECT` allows us to choose one or more specific columns `FROM` one or more tables (see `Joins` in later sections). "
   ]
  },
  {
   "cell_type": "markdown",
   "metadata": {},
   "source": [
    "```sql\n",
    "SELECT col\n",
    "FROM table;\n",
    "```"
   ]
  },
  {
   "cell_type": "code",
   "execution_count": 6,
   "metadata": {},
   "outputs": [
    {
     "data": {
      "text/html": [
       "<div>\n",
       "<style scoped>\n",
       "    .dataframe tbody tr th:only-of-type {\n",
       "        vertical-align: middle;\n",
       "    }\n",
       "\n",
       "    .dataframe tbody tr th {\n",
       "        vertical-align: top;\n",
       "    }\n",
       "\n",
       "    .dataframe thead th {\n",
       "        text-align: right;\n",
       "    }\n",
       "</style>\n",
       "<table border=\"1\" class=\"dataframe\">\n",
       "  <thead>\n",
       "    <tr style=\"text-align: right;\">\n",
       "      <th></th>\n",
       "      <th>bcolor</th>\n",
       "    </tr>\n",
       "  </thead>\n",
       "  <tbody>\n",
       "    <tr>\n",
       "      <th>0</th>\n",
       "      <td>red</td>\n",
       "    </tr>\n",
       "    <tr>\n",
       "      <th>1</th>\n",
       "      <td>green</td>\n",
       "    </tr>\n",
       "    <tr>\n",
       "      <th>2</th>\n",
       "      <td>white</td>\n",
       "    </tr>\n",
       "    <tr>\n",
       "      <th>3</th>\n",
       "      <td>extremely rare color</td>\n",
       "    </tr>\n",
       "  </tbody>\n",
       "</table>\n",
       "</div>"
      ],
      "text/plain": [
       "                 bcolor\n",
       "0                   red\n",
       "1                 green\n",
       "2                 white\n",
       "3  extremely rare color"
      ]
     },
     "execution_count": 6,
     "metadata": {},
     "output_type": "execute_result"
    }
   ],
   "source": [
    "sql_expr = \"\"\"\n",
    "SELECT DISTINCT bcolor FROM Balloons;\n",
    "\"\"\"\n",
    "pd.read_sql(sql_expr, sqlite_engine)"
   ]
  },
  {
   "cell_type": "markdown",
   "metadata": {},
   "source": [
    "Note: here we introduced another new keyword, **`DISTINCT`**, which basically filters out duplicates and only leave unique values in the output. For example here after selecting all the colors, `DISTINCT` will filter out duplicates and leave four final unique colors in the output. \n",
    "\n",
    "`SELECT... FROM` is the simplest format of a query. All other keywords below are not mandatory syntax but useful for different kinds of data requests."
   ]
  },
  {
   "cell_type": "markdown",
   "metadata": {},
   "source": [
    "### WHERE\n",
    "\n",
    "Your sister prefers the color red over other colors. How do we filter out only red balloons? This is where **`WHERE`** keyword becomes useful: it allows you to filter out specific rows in the final output according to some column values. "
   ]
  },
  {
   "cell_type": "markdown",
   "metadata": {},
   "source": [
    "```sql\n",
    "SELECT cols\n",
    "FROM tables\n",
    "[WHERE conditions];\n",
    "```"
   ]
  },
  {
   "cell_type": "code",
   "execution_count": 7,
   "metadata": {},
   "outputs": [
    {
     "data": {
      "text/html": [
       "<div>\n",
       "<style scoped>\n",
       "    .dataframe tbody tr th:only-of-type {\n",
       "        vertical-align: middle;\n",
       "    }\n",
       "\n",
       "    .dataframe tbody tr th {\n",
       "        vertical-align: top;\n",
       "    }\n",
       "\n",
       "    .dataframe thead th {\n",
       "        text-align: right;\n",
       "    }\n",
       "</style>\n",
       "<table border=\"1\" class=\"dataframe\">\n",
       "  <thead>\n",
       "    <tr style=\"text-align: right;\">\n",
       "      <th></th>\n",
       "      <th>bid</th>\n",
       "      <th>bshape</th>\n",
       "      <th>bcolor</th>\n",
       "      <th>clown</th>\n",
       "      <th>cost</th>\n",
       "    </tr>\n",
       "  </thead>\n",
       "  <tbody>\n",
       "    <tr>\n",
       "      <th>0</th>\n",
       "      <td>1</td>\n",
       "      <td>rectangular prism</td>\n",
       "      <td>red</td>\n",
       "      <td>Whompers LeFou</td>\n",
       "      <td>1.5</td>\n",
       "    </tr>\n",
       "    <tr>\n",
       "      <th>1</th>\n",
       "      <td>2</td>\n",
       "      <td>ellipsoid</td>\n",
       "      <td>red</td>\n",
       "      <td>Cayenne East</td>\n",
       "      <td>2.0</td>\n",
       "    </tr>\n",
       "    <tr>\n",
       "      <th>2</th>\n",
       "      <td>3</td>\n",
       "      <td>hyperboloid</td>\n",
       "      <td>red</td>\n",
       "      <td>Swan Ronson</td>\n",
       "      <td>8.9</td>\n",
       "    </tr>\n",
       "    <tr>\n",
       "      <th>3</th>\n",
       "      <td>5</td>\n",
       "      <td>ellipsoid</td>\n",
       "      <td>red</td>\n",
       "      <td>Cayenne East</td>\n",
       "      <td>1.5</td>\n",
       "    </tr>\n",
       "  </tbody>\n",
       "</table>\n",
       "</div>"
      ],
      "text/plain": [
       "   bid             bshape bcolor           clown  cost\n",
       "0    1  rectangular prism    red  Whompers LeFou   1.5\n",
       "1    2          ellipsoid    red    Cayenne East   2.0\n",
       "2    3        hyperboloid    red     Swan Ronson   8.9\n",
       "3    5          ellipsoid    red    Cayenne East   1.5"
      ]
     },
     "execution_count": 7,
     "metadata": {},
     "output_type": "execute_result"
    }
   ],
   "source": [
    "sql_expr = \"\"\"\n",
    "SELECT *\n",
    "FROM Balloons\n",
    "WHERE bcolor = 'red';\n",
    "\"\"\"\n",
    "pd.read_sql(sql_expr, sqlite_engine)"
   ]
  },
  {
   "cell_type": "markdown",
   "metadata": {},
   "source": [
    "Note that here we use **`*`**, which means selecting all columns in a record. "
   ]
  },
  {
   "cell_type": "markdown",
   "metadata": {},
   "source": [
    "### GROUP BY and Aggregations\n",
    "\n",
    "Now let's do some more complicated calculations. For example, you might be curious about the average price for each color of balloons. How do we solve this problem? "
   ]
  },
  {
   "cell_type": "markdown",
   "metadata": {},
   "source": [
    "We actually already know how to do this using pandas. This is probably how you might approach this problem using pandas (suppose we have a `balloons` dataframe):"
   ]
  },
  {
   "cell_type": "code",
   "execution_count": 8,
   "metadata": {},
   "outputs": [
    {
     "data": {
      "text/html": [
       "<div>\n",
       "<style scoped>\n",
       "    .dataframe tbody tr th:only-of-type {\n",
       "        vertical-align: middle;\n",
       "    }\n",
       "\n",
       "    .dataframe tbody tr th {\n",
       "        vertical-align: top;\n",
       "    }\n",
       "\n",
       "    .dataframe thead th {\n",
       "        text-align: right;\n",
       "    }\n",
       "</style>\n",
       "<table border=\"1\" class=\"dataframe\">\n",
       "  <thead>\n",
       "    <tr style=\"text-align: right;\">\n",
       "      <th></th>\n",
       "      <th>bid</th>\n",
       "      <th>bshape</th>\n",
       "      <th>bcolor</th>\n",
       "      <th>clown</th>\n",
       "      <th>cost</th>\n",
       "    </tr>\n",
       "  </thead>\n",
       "  <tbody>\n",
       "    <tr>\n",
       "      <th>0</th>\n",
       "      <td>1</td>\n",
       "      <td>rectangular prism</td>\n",
       "      <td>red</td>\n",
       "      <td>Whompers LeFou</td>\n",
       "      <td>1.5</td>\n",
       "    </tr>\n",
       "    <tr>\n",
       "      <th>1</th>\n",
       "      <td>2</td>\n",
       "      <td>ellipsoid</td>\n",
       "      <td>red</td>\n",
       "      <td>Cayenne East</td>\n",
       "      <td>2.0</td>\n",
       "    </tr>\n",
       "    <tr>\n",
       "      <th>2</th>\n",
       "      <td>3</td>\n",
       "      <td>hyperboloid</td>\n",
       "      <td>red</td>\n",
       "      <td>Swan Ronson</td>\n",
       "      <td>8.9</td>\n",
       "    </tr>\n",
       "    <tr>\n",
       "      <th>...</th>\n",
       "      <td>...</td>\n",
       "      <td>...</td>\n",
       "      <td>...</td>\n",
       "      <td>...</td>\n",
       "      <td>...</td>\n",
       "    </tr>\n",
       "    <tr>\n",
       "      <th>5</th>\n",
       "      <td>6</td>\n",
       "      <td>octahedral prism</td>\n",
       "      <td>white</td>\n",
       "      <td>Swan Ronson</td>\n",
       "      <td>2.0</td>\n",
       "    </tr>\n",
       "    <tr>\n",
       "      <th>6</th>\n",
       "      <td>7</td>\n",
       "      <td>octahedral prism</td>\n",
       "      <td>green</td>\n",
       "      <td>Swan Ronson</td>\n",
       "      <td>3.0</td>\n",
       "    </tr>\n",
       "    <tr>\n",
       "      <th>7</th>\n",
       "      <td>8</td>\n",
       "      <td>extremely rare shape</td>\n",
       "      <td>extremely rare color</td>\n",
       "      <td>Reese Withoutaspoon</td>\n",
       "      <td>3.5</td>\n",
       "    </tr>\n",
       "  </tbody>\n",
       "</table>\n",
       "<p>8 rows × 5 columns</p>\n",
       "</div>"
      ],
      "text/plain": [
       "    bid                bshape                bcolor                clown  cost\n",
       "0     1     rectangular prism                   red       Whompers LeFou   1.5\n",
       "1     2             ellipsoid                   red         Cayenne East   2.0\n",
       "2     3           hyperboloid                   red          Swan Ronson   8.9\n",
       "..  ...                   ...                   ...                  ...   ...\n",
       "5     6      octahedral prism                 white          Swan Ronson   2.0\n",
       "6     7      octahedral prism                 green          Swan Ronson   3.0\n",
       "7     8  extremely rare shape  extremely rare color  Reese Withoutaspoon   3.5\n",
       "\n",
       "[8 rows x 5 columns]"
      ]
     },
     "execution_count": 8,
     "metadata": {},
     "output_type": "execute_result"
    }
   ],
   "source": [
    "# create the dataframe balloons\n",
    "balloons = pd.read_sql(\"\"\"SELECT * FROM Balloons;\"\"\", sqlite_engine)\n",
    "balloons"
   ]
  },
  {
   "cell_type": "code",
   "execution_count": 9,
   "metadata": {},
   "outputs": [
    {
     "data": {
      "text/plain": [
       "bcolor\n",
       "extremely rare color    3.500\n",
       "green                   2.250\n",
       "red                     3.475\n",
       "white                   2.000\n",
       "Name: cost, dtype: float64"
      ]
     },
     "execution_count": 9,
     "metadata": {},
     "output_type": "execute_result"
    }
   ],
   "source": [
    "balloons.groupby('bcolor')['cost'].mean()"
   ]
  },
  {
   "cell_type": "markdown",
   "metadata": {},
   "source": [
    "If we analyze the above approach, we can see that there are two steps: first, form groups of balloons by different colors; second, calculate the mean cost in each group."
   ]
  },
  {
   "cell_type": "markdown",
   "metadata": {},
   "source": [
    "SQL **`GROUP BY`** is no different from pandas `groupby` in terms of clustering records into groups by certain criteria. After grouping, we can apply aggregation functions if we want to get more statistics on the groups, like the mean of a group of numbers. **Aggregation** functions take in a set of records, perform some computations, and return a single value. For example, if we want to find the average price, we can use `AVG(col)` function. "
   ]
  },
  {
   "cell_type": "markdown",
   "metadata": {},
   "source": [
    "```sql\n",
    "SELECT ...\n",
    "FROM ...\n",
    "[WHERE ...]\n",
    "[GROUP BY ...];\n",
    "```"
   ]
  },
  {
   "cell_type": "code",
   "execution_count": 10,
   "metadata": {},
   "outputs": [
    {
     "data": {
      "text/html": [
       "<div>\n",
       "<style scoped>\n",
       "    .dataframe tbody tr th:only-of-type {\n",
       "        vertical-align: middle;\n",
       "    }\n",
       "\n",
       "    .dataframe tbody tr th {\n",
       "        vertical-align: top;\n",
       "    }\n",
       "\n",
       "    .dataframe thead th {\n",
       "        text-align: right;\n",
       "    }\n",
       "</style>\n",
       "<table border=\"1\" class=\"dataframe\">\n",
       "  <thead>\n",
       "    <tr style=\"text-align: right;\">\n",
       "      <th></th>\n",
       "      <th>bcolor</th>\n",
       "      <th>AVG(cost)</th>\n",
       "    </tr>\n",
       "  </thead>\n",
       "  <tbody>\n",
       "    <tr>\n",
       "      <th>0</th>\n",
       "      <td>extremely rare color</td>\n",
       "      <td>3.500</td>\n",
       "    </tr>\n",
       "    <tr>\n",
       "      <th>1</th>\n",
       "      <td>green</td>\n",
       "      <td>2.250</td>\n",
       "    </tr>\n",
       "    <tr>\n",
       "      <th>2</th>\n",
       "      <td>red</td>\n",
       "      <td>3.475</td>\n",
       "    </tr>\n",
       "    <tr>\n",
       "      <th>3</th>\n",
       "      <td>white</td>\n",
       "      <td>2.000</td>\n",
       "    </tr>\n",
       "  </tbody>\n",
       "</table>\n",
       "</div>"
      ],
      "text/plain": [
       "                 bcolor  AVG(cost)\n",
       "0  extremely rare color      3.500\n",
       "1                 green      2.250\n",
       "2                   red      3.475\n",
       "3                 white      2.000"
      ]
     },
     "execution_count": 10,
     "metadata": {},
     "output_type": "execute_result"
    }
   ],
   "source": [
    "sql_expr = \"\"\"\n",
    "SELECT bcolor, AVG(cost)\n",
    "FROM Balloons\n",
    "GROUP BY bcolor;\n",
    "\"\"\"\n",
    "pd.read_sql(sql_expr, sqlite_engine)"
   ]
  },
  {
   "cell_type": "markdown",
   "metadata": {},
   "source": [
    "Note: `GROUP BY` and aggregation usually come in pairs, because it's common to first group values into different categories and then try to aggregate and get insights on each category."
   ]
  },
  {
   "cell_type": "markdown",
   "metadata": {},
   "source": [
    "### Other Keywords: HAVING, ORDER BY, LIMIT\n",
    "\n",
    "`HAVING`, `ORDER BY` and `LIMIT` are three additional useful queries. **`HAVING`** is used with `GROUP BY` and is used to filter groups. **`ORDER BY`** orders the output records by certain criteria. **`LIMIT`** is a keyword that limits the number of output records. "
   ]
  },
  {
   "cell_type": "markdown",
   "metadata": {},
   "source": [
    "Going back to our example dataset, if I want to find bigger sellers, i.e. clowns who sell more than one type of balloons, and their average balloon prices, I might want to write a query like this:"
   ]
  },
  {
   "cell_type": "code",
   "execution_count": 11,
   "metadata": {},
   "outputs": [
    {
     "data": {
      "text/html": [
       "<div>\n",
       "<style scoped>\n",
       "    .dataframe tbody tr th:only-of-type {\n",
       "        vertical-align: middle;\n",
       "    }\n",
       "\n",
       "    .dataframe tbody tr th {\n",
       "        vertical-align: top;\n",
       "    }\n",
       "\n",
       "    .dataframe thead th {\n",
       "        text-align: right;\n",
       "    }\n",
       "</style>\n",
       "<table border=\"1\" class=\"dataframe\">\n",
       "  <thead>\n",
       "    <tr style=\"text-align: right;\">\n",
       "      <th></th>\n",
       "      <th>clown</th>\n",
       "      <th>AVG(cost)</th>\n",
       "    </tr>\n",
       "  </thead>\n",
       "  <tbody>\n",
       "    <tr>\n",
       "      <th>0</th>\n",
       "      <td>Cayenne East</td>\n",
       "      <td>1.750000</td>\n",
       "    </tr>\n",
       "    <tr>\n",
       "      <th>1</th>\n",
       "      <td>Swan Ronson</td>\n",
       "      <td>4.633333</td>\n",
       "    </tr>\n",
       "    <tr>\n",
       "      <th>2</th>\n",
       "      <td>Whompers LeFou</td>\n",
       "      <td>1.500000</td>\n",
       "    </tr>\n",
       "  </tbody>\n",
       "</table>\n",
       "</div>"
      ],
      "text/plain": [
       "            clown  AVG(cost)\n",
       "0    Cayenne East   1.750000\n",
       "1     Swan Ronson   4.633333\n",
       "2  Whompers LeFou   1.500000"
      ]
     },
     "execution_count": 11,
     "metadata": {},
     "output_type": "execute_result"
    }
   ],
   "source": [
    "sql_expr = \"\"\"\n",
    "SELECT clown, AVG(cost)\n",
    "FROM Balloons\n",
    "GROUP BY clown\n",
    "HAVING COUNT(clown) > 1;\n",
    "\"\"\"\n",
    "pd.read_sql(sql_expr, sqlite_engine)"
   ]
  },
  {
   "cell_type": "markdown",
   "metadata": {},
   "source": [
    "Note that we use a new function, `COUNT`, which counts the number of records in the output (or in this case, in each group). "
   ]
  },
  {
   "cell_type": "markdown",
   "metadata": {},
   "source": [
    "Maybe we want out output from previous query to be ordered by average cost from high to low, then we can revise previous query:"
   ]
  },
  {
   "cell_type": "code",
   "execution_count": 12,
   "metadata": {},
   "outputs": [
    {
     "data": {
      "text/html": [
       "<div>\n",
       "<style scoped>\n",
       "    .dataframe tbody tr th:only-of-type {\n",
       "        vertical-align: middle;\n",
       "    }\n",
       "\n",
       "    .dataframe tbody tr th {\n",
       "        vertical-align: top;\n",
       "    }\n",
       "\n",
       "    .dataframe thead th {\n",
       "        text-align: right;\n",
       "    }\n",
       "</style>\n",
       "<table border=\"1\" class=\"dataframe\">\n",
       "  <thead>\n",
       "    <tr style=\"text-align: right;\">\n",
       "      <th></th>\n",
       "      <th>clown</th>\n",
       "      <th>AVG(cost)</th>\n",
       "    </tr>\n",
       "  </thead>\n",
       "  <tbody>\n",
       "    <tr>\n",
       "      <th>0</th>\n",
       "      <td>Swan Ronson</td>\n",
       "      <td>4.633333</td>\n",
       "    </tr>\n",
       "    <tr>\n",
       "      <th>1</th>\n",
       "      <td>Cayenne East</td>\n",
       "      <td>1.750000</td>\n",
       "    </tr>\n",
       "    <tr>\n",
       "      <th>2</th>\n",
       "      <td>Whompers LeFou</td>\n",
       "      <td>1.500000</td>\n",
       "    </tr>\n",
       "  </tbody>\n",
       "</table>\n",
       "</div>"
      ],
      "text/plain": [
       "            clown  AVG(cost)\n",
       "0     Swan Ronson   4.633333\n",
       "1    Cayenne East   1.750000\n",
       "2  Whompers LeFou   1.500000"
      ]
     },
     "execution_count": 12,
     "metadata": {},
     "output_type": "execute_result"
    }
   ],
   "source": [
    "sql_expr = \"\"\"\n",
    "SELECT clown, AVG(cost)\n",
    "FROM Balloons\n",
    "GROUP BY clown\n",
    "HAVING COUNT(clown) > 1\n",
    "ORDER BY AVG(cost) DESC;\n",
    "\"\"\"\n",
    "pd.read_sql(sql_expr, sqlite_engine)"
   ]
  },
  {
   "cell_type": "markdown",
   "metadata": {},
   "source": [
    "Note that we use a new keyword, `DESC` here, which just means to organize output numbers by descending order."
   ]
  },
  {
   "cell_type": "markdown",
   "metadata": {},
   "source": [
    "Suppose I only want to see the top two clowns who have the highest average prices, I can use `LIMIT` to limit my output records to only two. "
   ]
  },
  {
   "cell_type": "code",
   "execution_count": 13,
   "metadata": {},
   "outputs": [
    {
     "data": {
      "text/html": [
       "<div>\n",
       "<style scoped>\n",
       "    .dataframe tbody tr th:only-of-type {\n",
       "        vertical-align: middle;\n",
       "    }\n",
       "\n",
       "    .dataframe tbody tr th {\n",
       "        vertical-align: top;\n",
       "    }\n",
       "\n",
       "    .dataframe thead th {\n",
       "        text-align: right;\n",
       "    }\n",
       "</style>\n",
       "<table border=\"1\" class=\"dataframe\">\n",
       "  <thead>\n",
       "    <tr style=\"text-align: right;\">\n",
       "      <th></th>\n",
       "      <th>clown</th>\n",
       "      <th>AVG(cost)</th>\n",
       "    </tr>\n",
       "  </thead>\n",
       "  <tbody>\n",
       "    <tr>\n",
       "      <th>0</th>\n",
       "      <td>Swan Ronson</td>\n",
       "      <td>4.633333</td>\n",
       "    </tr>\n",
       "    <tr>\n",
       "      <th>1</th>\n",
       "      <td>Cayenne East</td>\n",
       "      <td>1.750000</td>\n",
       "    </tr>\n",
       "  </tbody>\n",
       "</table>\n",
       "</div>"
      ],
      "text/plain": [
       "          clown  AVG(cost)\n",
       "0   Swan Ronson   4.633333\n",
       "1  Cayenne East   1.750000"
      ]
     },
     "execution_count": 13,
     "metadata": {},
     "output_type": "execute_result"
    }
   ],
   "source": [
    "sql_expr = \"\"\"\n",
    "SELECT clown, AVG(cost)\n",
    "FROM Balloons\n",
    "GROUP BY clown\n",
    "HAVING COUNT(clown) > 1\n",
    "ORDER BY AVG(cost) DESC\n",
    "LIMIT 2;\n",
    "\"\"\"\n",
    "pd.read_sql(sql_expr, sqlite_engine)"
   ]
  },
  {
   "cell_type": "markdown",
   "metadata": {},
   "source": [
    "#### Some Extra Notes on SQL:\n",
    "\n",
    "Here we have used the most basic SQL queries, and hopefully with these skills you can easily find the right balloon(s) for your sister. To add a couple additional notes on using SQL:\n",
    "- capitalization and indentation don't effect the correctness of query. So if you write `select` instead of `SELECT` query would run fine. \n",
    "- however order of execution is important in SQL. The following diagram from class illustrate the correct execution order between keywords:"
   ]
  },
  {
   "cell_type": "markdown",
   "metadata": {},
   "source": [
    "![query_exec_order.png](https://github.com/weiwzhang/writings/blob/master/simplistic_SQL_tutorial_ds100/query_exec_order.png)"
   ]
  },
  {
   "cell_type": "markdown",
   "metadata": {},
   "source": [
    "This probably also answers your confusion of why we need `HAVING` after we already have `WHERE`. It's because we execute `WHERE` first, and then we execute `GROUP BY` and `HAVING`, so we need `HAVING` if we want to filter groups."
   ]
  },
  {
   "cell_type": "markdown",
   "metadata": {},
   "source": [
    "So for final reference, a typical query structure would look like this:\n",
    "\n",
    "```sql\n",
    "SELECT ...\n",
    "FROM ...\n",
    "[WHERE ...]\n",
    "[GROUP BY ...]\n",
    "[HAVING ...]\n",
    "[ORDER BY ...]\n",
    "[LIMIT ...];\n",
    "```"
   ]
  },
  {
   "cell_type": "markdown",
   "metadata": {},
   "source": [
    "### Summary "
   ]
  },
  {
   "cell_type": "markdown",
   "metadata": {},
   "source": [
    "Today we get an overview of the database management system and relational models. We've also learned what SQL is and some most basic SQL queries. You might have some additional questions about:\n",
    "- other DBMS types: NoSQL is a popular one. We won't cover it here but it's worth checking out\n",
    "- more complicated SQL queries: there are other useful keywords (e.g. `AS`, `AND`), and we'll move on to `JOIN` next time which interacts with multiple tables. "
   ]
  },
  {
   "cell_type": "code",
   "execution_count": null,
   "metadata": {},
   "outputs": [],
   "source": []
  }
 ],
 "metadata": {
  "kernelspec": {
   "display_name": "Python 3",
   "language": "python",
   "name": "python3"
  },
  "language_info": {
   "codemirror_mode": {
    "name": "ipython",
    "version": 3
   },
   "file_extension": ".py",
   "mimetype": "text/x-python",
   "name": "python",
   "nbconvert_exporter": "python",
   "pygments_lexer": "ipython3",
   "version": "3.6.4"
  }
 },
 "nbformat": 4,
 "nbformat_minor": 2
}
